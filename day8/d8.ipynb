{
 "cells": [
  {
   "cell_type": "code",
   "execution_count": 18,
   "metadata": {},
   "outputs": [
    {
     "name": "stdout",
     "output_type": "stream",
     "text": [
      "None\n"
     ]
    },
    {
     "ename": "IndexError",
     "evalue": "list index out of range",
     "output_type": "error",
     "traceback": [
      "\u001b[0;31m---------------------------------------------------------------------------\u001b[0m",
      "\u001b[0;31mIndexError\u001b[0m                                Traceback (most recent call last)",
      "Cell \u001b[0;32mIn[18], line 25\u001b[0m\n\u001b[1;32m     22\u001b[0m     pi \u001b[38;5;241m=\u001b[39m \u001b[38;5;241m0\u001b[39m \u001b[38;5;28;01mif\u001b[39;00m pi \u001b[38;5;241m>\u001b[39m\u001b[38;5;241m=\u001b[39m \u001b[38;5;28mlen\u001b[39m(pat)\u001b[38;5;241m-\u001b[39m\u001b[38;5;241m1\u001b[39m \u001b[38;5;28;01melse\u001b[39;00m pi\u001b[38;5;241m+\u001b[39m\u001b[38;5;241m1\u001b[39m\n\u001b[1;32m     24\u001b[0m \u001b[38;5;28mprint\u001b[39m(p1)\n\u001b[0;32m---> 25\u001b[0m \u001b[38;5;28mprint\u001b[39m(np\u001b[38;5;241m.\u001b[39mlcm\u001b[38;5;241m.\u001b[39mreduce([\u001b[43mrepeat\u001b[49m\u001b[43m[\u001b[49m\u001b[38;5;241;43m-\u001b[39;49m\u001b[38;5;241;43m1\u001b[39;49m\u001b[43m]\u001b[49m \u001b[38;5;241m-\u001b[39m repeat[\u001b[38;5;241m-\u001b[39m\u001b[38;5;241m2\u001b[39m] \u001b[38;5;28;01mfor\u001b[39;00m repeat \u001b[38;5;129;01min\u001b[39;00m repeats]))\n",
      "\u001b[0;31mIndexError\u001b[0m: list index out of range"
     ]
    }
   ],
   "source": [
    "import numpy as np\n",
    "\n",
    "lines = open('d8.txt').read()\n",
    "pat, rest = lines.split(\"\\n\\n\")\n",
    "d = {l.split()[0]: (l.split(\"= (\")[1].split(\", \")[0],l.split(\", \")[1].split(\")\")[0]) for l in rest.splitlines()}\n",
    "pat = [0 if c == \"L\" else 1 for c in pat]\n",
    "p1 = None\n",
    "cur1 = 'AAA'\n",
    "cur2 = [i for i in d.keys() if i[-1]=='A']\n",
    "pi = 0\n",
    "repeats = [[] for i in range(len(cur2))]\n",
    "\n",
    "for i in range(1,5000):\n",
    "    cur1 = d[cur1][pat[pi]]\n",
    "    cur2 = [d[cur][pat[pi]] for cur in cur2]\n",
    "    for j in range(len(cur2)):\n",
    "        if cur2[j][-1] == 'Z':\n",
    "            repeats[j].append(i)\n",
    "    if cur1 == 'ZZZ' and p1 == None: p1 = i\n",
    "    pi = 0 if pi >= len(pat)-1 else pi+1\n",
    "\n",
    "print(p1)\n",
    "print(np.lcm.reduce([repeat[-1] - repeat[-2] for repeat in repeats]))"
   ]
  },
  {
   "cell_type": "code",
   "execution_count": null,
   "metadata": {},
   "outputs": [
    {
     "name": "stdout",
     "output_type": "stream",
     "text": [
      "2\n"
     ]
    }
   ],
   "source": [
    "print(len(pat))"
   ]
  },
  {
   "cell_type": "code",
   "execution_count": null,
   "metadata": {},
   "outputs": [
    {
     "data": {
      "text/plain": [
       "30"
      ]
     },
     "execution_count": 68,
     "metadata": {},
     "output_type": "execute_result"
    }
   ],
   "source": [
    "1\n",
    "2\n",
    "2\n",
    "\n",
    "2\n",
    "3\n",
    "6\n",
    "\n",
    "2\n",
    "3\n",
    "5\n",
    "30"
   ]
  },
  {
   "cell_type": "code",
   "execution_count": null,
   "metadata": {},
   "outputs": [
    {
     "data": {
      "text/plain": [
       "30"
      ]
     },
     "execution_count": 69,
     "metadata": {},
     "output_type": "execute_result"
    }
   ],
   "source": [
    "np.lcm.reduce([2,3,5])"
   ]
  }
 ],
 "metadata": {
  "kernelspec": {
   "display_name": ".venv",
   "language": "python",
   "name": "python3"
  },
  "language_info": {
   "codemirror_mode": {
    "name": "ipython",
    "version": 3
   },
   "file_extension": ".py",
   "mimetype": "text/x-python",
   "name": "python",
   "nbconvert_exporter": "python",
   "pygments_lexer": "ipython3",
   "version": "3.12.0"
  }
 },
 "nbformat": 4,
 "nbformat_minor": 2
}
