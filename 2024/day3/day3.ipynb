{
 "cells": [
  {
   "cell_type": "code",
   "execution_count": 47,
   "metadata": {},
   "outputs": [
    {
     "name": "stdout",
     "output_type": "stream",
     "text": [
      "159892596 92626942\n"
     ]
    }
   ],
   "source": [
    "import re\n",
    "\n",
    "\n",
    "def tot(a):\n",
    "    return int(a.split(\",\")[0].split(\"(\")[1]) * int(a.split(\",\")[1].split(\")\")[0])\n",
    "\n",
    "\n",
    "filename = \"input.txt\"\n",
    "f = open(filename).read()\n",
    "all = re.findall(r\"(mul\\([0-9]+,[0-9]+\\))|(do\\(\\))|(don't\\(\\))\", f)\n",
    "\n",
    "p1 = 0\n",
    "p2 = 0\n",
    "enabled = True\n",
    "for a in all:\n",
    "    if len(a[1]) > 0:\n",
    "        enabled = True\n",
    "    elif len(a[2]) > 0:\n",
    "        enabled = False\n",
    "    else:\n",
    "        p1 += tot(a[0])\n",
    "        if enabled:\n",
    "            p2 += tot(a[0])\n",
    "print(p1, p2)"
   ]
  }
 ],
 "metadata": {
  "kernelspec": {
   "display_name": ".venv",
   "language": "python",
   "name": "python3"
  },
  "language_info": {
   "codemirror_mode": {
    "name": "ipython",
    "version": 3
   },
   "file_extension": ".py",
   "mimetype": "text/x-python",
   "name": "python",
   "nbconvert_exporter": "python",
   "pygments_lexer": "ipython3",
   "version": "3.10.15"
  }
 },
 "nbformat": 4,
 "nbformat_minor": 2
}
