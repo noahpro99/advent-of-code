{
 "cells": [
  {
   "cell_type": "code",
   "execution_count": 123,
   "metadata": {},
   "outputs": [
    {
     "name": "stdout",
     "output_type": "stream",
     "text": [
      "1992273652 1012\n"
     ]
    }
   ],
   "source": [
    "lines = [[int(i) for i in x.split()] for x in open('d9.txt').read().splitlines()]\n",
    "p1,p2 = [],[]\n",
    "for line in lines:\n",
    "    diffs = [line]\n",
    "    i = 0\n",
    "    while not all([x == 0 for x in diffs[i]]):\n",
    "        diffs.append(diffs[i].copy())\n",
    "        diffs[i+1] = [b-a for a,b in zip(diffs[i],diffs[i][1:])]\n",
    "        i += 1\n",
    "    diffs[i].append(0)\n",
    "    diffs[i].insert(0,0)\n",
    "    while i > 0:\n",
    "        diffs[i-1].insert(0, diffs[i-1][0] - diffs[i][0] )\n",
    "        diffs[i-1].append(diffs[i-1][-1] + diffs[i][-1] )\n",
    "        i -= 1\n",
    "    p1.append(diffs[0][-1])\n",
    "    p2.append(diffs[0][0])\n",
    "print(sum(p1), sum(p2))"
   ]
  }
 ],
 "metadata": {
  "kernelspec": {
   "display_name": ".venv",
   "language": "python",
   "name": "python3"
  },
  "language_info": {
   "codemirror_mode": {
    "name": "ipython",
    "version": 3
   },
   "file_extension": ".py",
   "mimetype": "text/x-python",
   "name": "python",
   "nbconvert_exporter": "python",
   "pygments_lexer": "ipython3",
   "version": "3.12.0"
  }
 },
 "nbformat": 4,
 "nbformat_minor": 2
}
