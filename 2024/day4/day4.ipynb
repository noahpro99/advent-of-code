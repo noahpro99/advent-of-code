{
 "cells": [
  {
   "cell_type": "code",
   "execution_count": 4,
   "metadata": {},
   "outputs": [
    {
     "name": "stdout",
     "output_type": "stream",
     "text": [
      "2718 2046\n"
     ]
    }
   ],
   "source": [
    "file_name = \"input.txt\"\n",
    "f = open(file_name).read().splitlines()\n",
    "X = len(f[0])\n",
    "Y = len(f)\n",
    "\n",
    "\n",
    "def xmas(cur, d):\n",
    "    for c in \"XMAS\":\n",
    "        if cur[0] < 0 or cur[0] >= X or cur[1] < 0 or cur[1] >= Y:\n",
    "            return False\n",
    "        if f[cur[0]][cur[1]] == c:\n",
    "            cur = (cur[0] + d[0], cur[1] + d[1])\n",
    "        else:\n",
    "            return False\n",
    "    return True\n",
    "\n",
    "\n",
    "def xmas2(cur):\n",
    "    if (\n",
    "        f[cur[0]][cur[1]] != \"A\"\n",
    "        or cur[0] < 1\n",
    "        or cur[0] >= X - 1\n",
    "        or cur[1] < 1\n",
    "        or cur[1] >= Y - 1\n",
    "    ):\n",
    "        return False\n",
    "    magic_s = {\"M\", \"S\"}\n",
    "    if {f[cur[0] + 1][cur[1] + 1], f[cur[0] - 1][cur[1] - 1]} != magic_s:\n",
    "        return False\n",
    "    if {f[cur[0] + 1][cur[1] - 1], f[cur[0] - 1][cur[1] + 1]} != magic_s:\n",
    "        return False\n",
    "    return True\n",
    "\n",
    "\n",
    "t = 0\n",
    "t2 = 0\n",
    "for x in range(X):\n",
    "    for y in range(Y):\n",
    "        if xmas2((x, y)):\n",
    "            t2 += 1\n",
    "        for d in [(-1, -1), (-1, 0), (-1, 1), (0, -1), (0, 1), (1, -1), (1, 0), (1, 1)]:\n",
    "            if xmas((x, y), d):\n",
    "                t += 1\n",
    "print(t, t2)"
   ]
  }
 ],
 "metadata": {
  "kernelspec": {
   "display_name": ".venv",
   "language": "python",
   "name": "python3"
  },
  "language_info": {
   "codemirror_mode": {
    "name": "ipython",
    "version": 3
   },
   "file_extension": ".py",
   "mimetype": "text/x-python",
   "name": "python",
   "nbconvert_exporter": "python",
   "pygments_lexer": "ipython3",
   "version": "3.10.15"
  }
 },
 "nbformat": 4,
 "nbformat_minor": 2
}
