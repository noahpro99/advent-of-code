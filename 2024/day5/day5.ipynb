{
 "cells": [
  {
   "cell_type": "code",
   "execution_count": null,
   "metadata": {},
   "outputs": [
    {
     "name": "stdout",
     "output_type": "stream",
     "text": [
      "4774\n",
      "6004\n"
     ]
    }
   ],
   "source": [
    "file_name = \"input.txt\"\n",
    "rules, orders = open(file_name).read().split(\"\\n\\n\")\n",
    "orders = [x.split(\",\") for x in orders.split(\"\\n\")]\n",
    "rules = [x.split(\"|\") for x in rules.split(\"\\n\")]\n",
    "d = {x[1]: [i[0] for i in rules if i[1] == x[1]] for x in rules}\n",
    "\n",
    "\n",
    "def order_good(order):\n",
    "    cant_hit = set()\n",
    "    for item in order:\n",
    "        if item in cant_hit:\n",
    "            return False\n",
    "        if item in d:\n",
    "            for new in d[item]:\n",
    "                cant_hit.add(new)\n",
    "    return True\n",
    "\n",
    "\n",
    "def reorder_topological(order):\n",
    "    final = []\n",
    "    D = {it: len([x for x in d.get(it, []) if x in order]) for it in order}\n",
    "    q = [it for it in order if D[it] == 0]\n",
    "    while q:\n",
    "        cur = q.pop(0)\n",
    "        final.append(cur)\n",
    "        D = {\n",
    "            it: len([x for x in d.get(it, []) if x in order and x not in final])\n",
    "            for it in order\n",
    "        }\n",
    "        [q.append(x) for x in D if D[x] == 0 and x not in final and x not in q]\n",
    "    return final\n",
    "\n",
    "\n",
    "p1 = 0\n",
    "p2 = 0\n",
    "for order in orders:\n",
    "    if order_good(order):\n",
    "        p1 += int(order[len(order) // 2])\n",
    "    else:\n",
    "        order = reorder_topological(order)\n",
    "        p2 += int(order[len(order) // 2])\n",
    "print(p1)\n",
    "print(p2)"
   ]
  }
 ],
 "metadata": {
  "kernelspec": {
   "display_name": ".venv",
   "language": "python",
   "name": "python3"
  },
  "language_info": {
   "codemirror_mode": {
    "name": "ipython",
    "version": 3
   },
   "file_extension": ".py",
   "mimetype": "text/x-python",
   "name": "python",
   "nbconvert_exporter": "python",
   "pygments_lexer": "ipython3",
   "version": "3.10.15"
  }
 },
 "nbformat": 4,
 "nbformat_minor": 2
}
