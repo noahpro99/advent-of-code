{
 "cells": [
  {
   "cell_type": "code",
   "execution_count": null,
   "metadata": {},
   "outputs": [],
   "source": []
  },
  {
   "cell_type": "code",
   "execution_count": null,
   "metadata": {},
   "outputs": [
    {
     "name": "stdout",
     "output_type": "stream",
     "text": [
      "4789\n",
      "1304\n"
     ]
    }
   ],
   "source": [
    "file_name = \"input.txt\"\n",
    "x = open(file_name).read().splitlines()\n",
    "X, Y = len(x[0]), len(x)\n",
    "start_cur = [(i, r.find(\"^\")) for i, r in enumerate(x) if r.find(\"^\") > 0][0]\n",
    "new_d = {\n",
    "    (-1, 0): (0, 1),\n",
    "    (0, 1): (1, 0),\n",
    "    (1, 0): (0, -1),\n",
    "    (0, -1): (-1, 0),\n",
    "}\n",
    "\n",
    "visited_p1 = set()\n",
    "cur = start_cur\n",
    "dir = (-1, 0)\n",
    "while 0 <= cur[0] and cur[0] < Y and 0 <= cur[1] and cur[1] < X:\n",
    "    visited_p1.add(cur)\n",
    "    try:\n",
    "        if x[cur[0] + dir[0]][cur[1] + dir[1]] == \"#\":\n",
    "            dir = new_d[dir]\n",
    "    except:\n",
    "        pass\n",
    "    cur = (cur[0] + dir[0], cur[1] + dir[1])\n",
    "\n",
    "\n",
    "new_d = {\n",
    "    (-1, 0): (0, 1),\n",
    "    (0, 1): (1, 0),\n",
    "    (1, 0): (0, -1),\n",
    "    (0, -1): (-1, 0),\n",
    "}\n",
    "\n",
    "\n",
    "def loops(map):\n",
    "    visited = set()\n",
    "    cur = start_cur\n",
    "    dir = (-1, 0)\n",
    "    visited.add((cur, dir))\n",
    "    while True:\n",
    "        ahead_c = (cur[0] + dir[0], cur[1] + dir[1])\n",
    "        if ahead_c[0] < 0 or ahead_c[0] >= Y or ahead_c[1] < 0 or ahead_c[1] >= X:\n",
    "            return False\n",
    "        if map[ahead_c[0]][ahead_c[1]] == \"#\":\n",
    "            dir = new_d[dir]\n",
    "        else:\n",
    "            cur = (cur[0] + dir[0], cur[1] + dir[1])\n",
    "        if (cur, dir) in visited:\n",
    "            return True\n",
    "        visited.add((cur, dir))\n",
    "\n",
    "\n",
    "p2 = 0\n",
    "for i in range(X):\n",
    "    for j in range(Y):\n",
    "        if x[i][j] != \".\" or (i, j) not in visited_p1:\n",
    "            continue\n",
    "        new_map = [[c for c in r] for r in x]\n",
    "        new_map[i][j] = \"#\"\n",
    "        if loops(new_map):\n",
    "            p2 += 1\n",
    "\n",
    "print(len(visited_p1))\n",
    "print(p2)"
   ]
  }
 ],
 "metadata": {
  "kernelspec": {
   "display_name": ".venv",
   "language": "python",
   "name": "python3"
  },
  "language_info": {
   "codemirror_mode": {
    "name": "ipython",
    "version": 3
   },
   "file_extension": ".py",
   "mimetype": "text/x-python",
   "name": "python",
   "nbconvert_exporter": "python",
   "pygments_lexer": "ipython3",
   "version": "3.10.15"
  }
 },
 "nbformat": 4,
 "nbformat_minor": 2
}
