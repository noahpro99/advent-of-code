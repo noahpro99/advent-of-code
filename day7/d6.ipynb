{
 "cells": [
  {
   "cell_type": "code",
   "execution_count": 147,
   "metadata": {},
   "outputs": [
    {
     "data": {
      "text/plain": [
       "(249204891, 249666369)"
      ]
     },
     "execution_count": 147,
     "metadata": {},
     "output_type": "execute_result"
    }
   ],
   "source": [
    "from functools import cmp_to_key\n",
    "\n",
    "def type_of_hand(hand,p2):\n",
    "    cpc = { c:v for c,v in [(c,hand.count(c)) for c in hand]}\n",
    "    if p2:\n",
    "        if \"J\" in cpc.keys():\n",
    "            ma = cpc[\"J\"]\n",
    "            cpc[\"J\"] = 0\n",
    "            cpc[max(cpc, key=cpc.get)] += ma\n",
    "    if 5 in cpc.values(): return 9\n",
    "    if 4 in cpc.values(): return 8\n",
    "    if 3 in cpc.values() and 2 in cpc.values(): return 7\n",
    "    if 3 in cpc.values(): return 6\n",
    "    if list(cpc.values()).count(2) == 2: return 5\n",
    "    if 2 in cpc.values(): return 4\n",
    "    return 0\n",
    "\n",
    "def cmp(hand1, hand2, j, p2):\n",
    "    value = {\"A\":14, \"K\":13, \"Q\":12, \"J\":j, \"T\":10, \"9\":9, \"8\":8, \"7\":7, \"6\":6, \"5\":5, \"4\":4, \"3\":3, \"2\":2}\n",
    "    h1 = hand1[0]\n",
    "    h2 = hand2[0]\n",
    "    if type_of_hand(h1,p2) > type_of_hand(h2,p2): return 1\n",
    "    if type_of_hand(h1,p2) == type_of_hand(h2,p2):\n",
    "        for c1,c2 in zip(h1, h2):\n",
    "            if value[c1] > value[c2]: return 1\n",
    "            if value[c1] < value[c2]: return -1\n",
    "        return 0\n",
    "    return -1\n",
    "\n",
    "lines = open('d7.txt').read().splitlines()\n",
    "hb = [(h,b) for h,b in [l.split(\" \") for l in lines]]\n",
    "\n",
    "hb, hb2 = sorted(hb, key=cmp_to_key(lambda l,r: cmp(l,r,11,False))), sorted(hb, key=cmp_to_key(lambda x,y: cmp(x,y,1,True)))\n",
    "hbr, hbr2 = zip(hb, range(1,len(hb)+1)), zip(hb2, range(1,len(hb2)+1))\n",
    "sum([int(i[1])*j for i,j in hbr]), sum([int(i[1])*j for i,j in hbr2])"
   ]
  }
 ],
 "metadata": {
  "kernelspec": {
   "display_name": ".venv",
   "language": "python",
   "name": "python3"
  },
  "language_info": {
   "codemirror_mode": {
    "name": "ipython",
    "version": 3
   },
   "file_extension": ".py",
   "mimetype": "text/x-python",
   "name": "python",
   "nbconvert_exporter": "python",
   "pygments_lexer": "ipython3",
   "version": "3.12.0"
  }
 },
 "nbformat": 4,
 "nbformat_minor": 2
}
