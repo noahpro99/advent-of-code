{
 "cells": [
  {
   "cell_type": "code",
   "execution_count": 69,
   "metadata": {},
   "outputs": [
    {
     "data": {
      "text/plain": [
       "288"
      ]
     },
     "execution_count": 69,
     "metadata": {},
     "output_type": "execute_result"
    }
   ],
   "source": [
    "import numpy as np\n",
    "lines = open('d6.txt').read().splitlines()\n",
    "races = [(int(t),int(d)) for t,d in zip(lines[0].split(\":\")[1].split(), lines[1].split(\":\")[1].split())]\n",
    "\n",
    "ans = 1\n",
    "for t,d in races:\n",
    "    t1,t2 = (t+np.sqrt(t**2-4*d))/2, (t-np.sqrt(t**2-4*d))/2\n",
    "    if t1.is_integer() or t2.is_integer():\n",
    "        ans *= int(t1)-int(t2) - 1\n",
    "    else:\n",
    "        ans *= int(t1)-int(t2)\n",
    "ans"
   ]
  },
  {
   "cell_type": "code",
   "execution_count": 70,
   "metadata": {},
   "outputs": [
    {
     "data": {
      "text/plain": [
       "288"
      ]
     },
     "execution_count": 70,
     "metadata": {},
     "output_type": "execute_result"
    }
   ],
   "source": [
    "np.prod([int((t+np.sqrt(t**2-4*d))/2)-int((t-np.sqrt(t**2-4*d))/2)-(((t+np.sqrt(t**2-4*d))/2).is_integer() or ((t-np.sqrt(t**2-4*d))/2).is_integer()) for t,d in races])"
   ]
  },
  {
   "cell_type": "code",
   "execution_count": 71,
   "metadata": {},
   "outputs": [
    {
     "data": {
      "text/plain": [
       "[(7, 9), (15, 40), (30, 200)]"
      ]
     },
     "execution_count": 71,
     "metadata": {},
     "output_type": "execute_result"
    }
   ],
   "source": [
    "import numpy as np\n",
    "lines = open('d6.txt').read().splitlines()\n",
    "races = [(int(t),int(d)) for t,d in zip(lines[0].split(\":\")[1].split(), lines[1].split(\":\")[1].split())]\n",
    "races\n"
   ]
  },
  {
   "cell_type": "code",
   "execution_count": null,
   "metadata": {},
   "outputs": [],
   "source": []
  },
  {
   "cell_type": "code",
   "execution_count": 125,
   "metadata": {},
   "outputs": [
    {
     "name": "stdout",
     "output_type": "stream",
     "text": [
      "4\n",
      "8\n",
      "9\n"
     ]
    },
    {
     "data": {
      "text/plain": [
       "9"
      ]
     },
     "execution_count": 125,
     "metadata": {},
     "output_type": "execute_result"
    }
   ],
   "source": [
    "ans = 1\n",
    "for T,D in races:\n",
    "    # first find the max time to hold and still beat\n",
    "    \n",
    "    left, right = 0, T//2\n",
    "    while left < right:\n",
    "        mid = (left + right) // 2\n",
    "        d = mid * (T - mid)\n",
    "        if d <= D:\n",
    "            left = mid + 1\n",
    "        elif d >= D:\n",
    "            right = mid\n",
    "    ans = T - 2*left+1\n",
    "    print(ans)\n",
    "\n",
    "ans\n"
   ]
  },
  {
   "cell_type": "code",
   "execution_count": 73,
   "metadata": {},
   "outputs": [
    {
     "data": {
      "text/plain": [
       "71503"
      ]
     },
     "execution_count": 73,
     "metadata": {},
     "output_type": "execute_result"
    }
   ],
   "source": [
    "import numpy as np\n",
    "lines = open('d6.txt').read().splitlines()\n",
    "t,d  = int(\"\".join(lines[0].split(\":\")[1].split())), int(\"\".join(lines[1].split(\":\")[1].split()))\n",
    "\n",
    "ans = 1\n",
    "t1,t2 = (t+np.sqrt(t**2-4*d))/2, (t-np.sqrt(t**2-4*d))/2\n",
    "if t1.is_integer() or t2.is_integer(): ans *= int(t1)-int(t2) - 1\n",
    "else: ans *= int(t1)-int(t2)\n",
    "ans"
   ]
  },
  {
   "cell_type": "code",
   "execution_count": null,
   "metadata": {},
   "outputs": [],
   "source": []
  }
 ],
 "metadata": {
  "kernelspec": {
   "display_name": ".venv",
   "language": "python",
   "name": "python3"
  },
  "language_info": {
   "codemirror_mode": {
    "name": "ipython",
    "version": 3
   },
   "file_extension": ".py",
   "mimetype": "text/x-python",
   "name": "python",
   "nbconvert_exporter": "python",
   "pygments_lexer": "ipython3",
   "version": "3.12.0"
  }
 },
 "nbformat": 4,
 "nbformat_minor": 2
}
