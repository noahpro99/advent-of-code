{
 "cells": [
  {
   "cell_type": "code",
   "execution_count": 9,
   "metadata": {},
   "outputs": [
    {
     "name": "stdout",
     "output_type": "stream",
     "text": [
      "6815\n",
      "269\n"
     ]
    }
   ],
   "source": [
    "def dire(p):\n",
    "    if p == '|': return [(1,0), (-1,0)]\n",
    "    if p == '-': return [(0,1), (0,-1)]\n",
    "    if p == 'L': return [(0,1), (-1,0)]\n",
    "    if p == 'J': return [(0,-1), (-1,0)]\n",
    "    if p == '7': return [(0,-1), (1,0)]\n",
    "    if p == 'F': return [(0,1), (1,0)]\n",
    "    if p == '.': return []\n",
    "    if p == 'S': return [(0,1), (1,0), (0,-1), (-1,0)]\n",
    "\n",
    "def fill(d):\n",
    "    if set(d) == {(1,0), (-1,0)}: return '|'\n",
    "    if set(d) == {(0,1), (0,-1)}: return '-'\n",
    "    if set(d) == {(0,1), (-1,0)}: return 'L'\n",
    "    if set(d) == {(0,-1), (-1,0)}: return 'J'\n",
    "    if set(d) == {(0,-1), (1,0)}: return '7'\n",
    "    if set(d) == {(0,1), (1,0)}: return 'F'\n",
    "    \n",
    "G = [[c for c in x] for x in open('d10.txt').read().splitlines()]\n",
    "R = len(G)\n",
    "C = len(G[0])\n",
    "s = ([i for i in range(R) for j in range(C) if G[i][j] == 'S'][0], [j for i in range(R) for j in range(C) if G[i][j] == 'S'][0])\n",
    "\n",
    "def add(x,y): \n",
    "    return (x[0]+y[0], x[1]+y[1])\n",
    "\n",
    "def grid(c):\n",
    "    return G[c[0]][c[1]]\n",
    "\n",
    "c = s\n",
    "s_dirs = [d for d in [(0,1), (1,0), (0,-1), (-1,0)] if c in [add(p,add(c,d)) for p in dire(grid(add(c,d)))]]\n",
    "\n",
    "c = add(c, s_dirs[0])\n",
    "path = [s, c]\n",
    "while True:\n",
    "    d = [x for x in dire(grid(c)) if add(c,x) != path[-2] ][0]\n",
    "    c = add(c,d)\n",
    "    path.append(c)\n",
    "    if grid(c) == 'S':\n",
    "        print(len(path)//2)\n",
    "        break\n",
    "\n",
    "G[s[0]][s[1]] = fill(s_dirs)\n",
    "\n",
    "p2 = 0\n",
    "for i in range(R):\n",
    "    row = [\".\" if (i,j) not in path else grid((i,j)) for j in range(C) if ((i,j) in path and grid((i,j)) != \"-\") or (i,j) not in path]\n",
    "    row2 = [row[0]]\n",
    "    for i in row[1:]:\n",
    "        if row2[-1] =='F' and i == 'J':\n",
    "            row2[-1] = '|'\n",
    "        elif row2[-1] =='L' and i == '7':\n",
    "            row2[-1] = '|'\n",
    "        else:\n",
    "            row2.append(i)\n",
    "    row = row2\n",
    "    \n",
    "    turned_on = False\n",
    "    for i,c in enumerate(row):\n",
    "        if c in ['F', '7', 'L', 'J', '|']: turned_on = not turned_on\n",
    "        elif c == '.' and turned_on: p2 += 1\n",
    "\n",
    "print(p2)"
   ]
  }
 ],
 "metadata": {
  "kernelspec": {
   "display_name": ".venv",
   "language": "python",
   "name": "python3"
  },
  "language_info": {
   "codemirror_mode": {
    "name": "ipython",
    "version": 3
   },
   "file_extension": ".py",
   "mimetype": "text/x-python",
   "name": "python",
   "nbconvert_exporter": "python",
   "pygments_lexer": "ipython3",
   "version": "3.12.0"
  }
 },
 "nbformat": 4,
 "nbformat_minor": 2
}
