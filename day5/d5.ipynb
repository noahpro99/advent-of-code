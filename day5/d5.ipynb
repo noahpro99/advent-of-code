{
 "cells": [
  {
   "cell_type": "code",
   "execution_count": 235,
   "metadata": {},
   "outputs": [
    {
     "data": {
      "text/plain": [
       "35"
      ]
     },
     "execution_count": 235,
     "metadata": {},
     "output_type": "execute_result"
    }
   ],
   "source": [
    "from functools import reduce\n",
    "\n",
    "lines = open(\"d5.txt\").read().splitlines()\n",
    "seeds = [int(i) for i in lines[0].split()[1:]]\n",
    "rounds = [[[int(t) for t in n.split()] for n in m[1:-1].split(\".\")[1:]] for m in \".\".join([i if i != \"\" else \"@\" for i in lines[2:]+[\"\"]]).split(\"@\")[:-1]]\n",
    "min([reduce(lambda x,r: x if not any([x+r[0]-r[1] if r[1]<=x<r[1]+r[2] else False for r in r]) else list(filter(lambda ar: ar!=False, [x+r[0]-r[1] if r[1]<=x<r[1]+r[2] else False for r in r]))[0], rounds, seed) for seed in seeds])"
   ]
  },
  {
   "cell_type": "code",
   "execution_count": 236,
   "metadata": {},
   "outputs": [
    {
     "data": {
      "text/plain": [
       "35"
      ]
     },
     "execution_count": 236,
     "metadata": {},
     "output_type": "execute_result"
    }
   ],
   "source": [
    "min([reduce(lambda x,r: x if not any([x+r[0]-r[1] if r[1]<=x<r[1]+r[2] else False for r in r]) else list(filter(lambda ar: ar!=False, [x+r[0]-r[1] if r[1]<=x<r[1]+r[2] else False for r in r]))[0], [[[int(t) for t in n.split()] for n in m[1:-1].split(\".\")[1:]] for m in \".\".join([i if i != \"\" else \"@\" for i in open(\"d5.txt\").read().splitlines()[2:]+[\"\"]]).split(\"@\")[:-1]], seed) for seed in [int(i) for i in open(\"d5.txt\").read().splitlines()[0].split()[1:]]])"
   ]
  },
  {
   "cell_type": "code",
   "execution_count": 237,
   "metadata": {},
   "outputs": [
    {
     "data": {
      "text/plain": [
       "[(79, 93), (55, 68)]"
      ]
     },
     "execution_count": 237,
     "metadata": {},
     "output_type": "execute_result"
    }
   ],
   "source": [
    "lines = open(\"d5.txt\").read().splitlines()\n",
    "\n",
    "seeds = [(int(i),int(i)+int(j)) for i,j in zip(lines[0].split()[1::2],lines[0].split()[2::2])]\n",
    "seeds"
   ]
  },
  {
   "cell_type": "code",
   "execution_count": 238,
   "metadata": {},
   "outputs": [
    {
     "data": {
      "text/plain": [
       "[[[(98, 100), (50, 52)], [(50, 98), (52, 100)]],\n",
       " [[(15, 52), (0, 37)], [(52, 54), (37, 39)], [(0, 15), (39, 54)]],\n",
       " [[(53, 61), (49, 57)],\n",
       "  [(11, 53), (0, 42)],\n",
       "  [(0, 7), (42, 49)],\n",
       "  [(7, 11), (57, 61)]],\n",
       " [[(18, 25), (88, 95)], [(25, 95), (18, 88)]],\n",
       " [[(77, 100), (45, 68)], [(45, 64), (81, 100)], [(64, 77), (68, 81)]],\n",
       " [[(69, 70), (0, 1)], [(0, 69), (1, 70)]],\n",
       " [[(56, 93), (60, 97)], [(93, 97), (56, 60)]]]"
      ]
     },
     "execution_count": 238,
     "metadata": {},
     "output_type": "execute_result"
    }
   ],
   "source": [
    "rounds = [[[int(t) for t in n.split()] for n in m[1:-1].split(\".\")[1:]] for m in \".\".join([i if i != \"\" else \"@\" for i in lines[2:]+[\"\"]]).split(\"@\")[:-1]]\n",
    "rounds = [[[(i[1],i[1]+i[2]),(i[0],i[0]+i[2])] for i in r] for r in rounds]\n",
    "rounds"
   ]
  },
  {
   "cell_type": "code",
   "execution_count": 239,
   "metadata": {},
   "outputs": [
    {
     "name": "stdout",
     "output_type": "stream",
     "text": [
      "14\n",
      "[(79, 93)]\n"
     ]
    },
    {
     "data": {
      "text/plain": [
       "14"
      ]
     },
     "execution_count": 239,
     "metadata": {},
     "output_type": "execute_result"
    }
   ],
   "source": [
    "seed = (95,102)\n",
    "r = rounds[0][0]\n",
    "def mapping(seed: tuple[int,int], r: list[tuple[int,int]]) -> list[tuple[int,int]]:\n",
    "    # apply the mapping to the seed returning a list of ranges\n",
    "    # seed is a tuple of (start, end)\n",
    "    # r is a list of tuples of (start, end) first one is the range of the start of the map and second is where that range goes to\n",
    "    # return a list of tuples of (start, end) for the seed\n",
    "    \n",
    "    if r[0][0] <= seed[0] < r[0][1] and r[0][0] <= seed[1] < r[0][1]: return [(seed[0]-r[0][0]+r[1][0], seed[1]-r[0][0]+r[1][0])]\n",
    "    if r[0][0] <= seed[0] < r[0][1]: return [(seed[0]-r[0][0]+r[1][0], r[1][1]), (r[0][1], seed[1])]\n",
    "    if r[0][0] <= seed[1] < r[0][1]: return [(seed[0], r[0][0]), (r[1][0], seed[1]-r[0][0]+r[1][0])]\n",
    "    # one more case if the range is completely outside the seed\n",
    "    if seed[0] <= r[0][0] and r[0][0] < seed[1]: return [(seed[0], r[0][0]), (r[1][0], r[1][1]), (r[0][1], seed[1])]\n",
    "    return [(seed[0], seed[1])]\n",
    "# test some mappings\n",
    "s = (79, 93)\n",
    "print(s[1]-s[0])\n",
    "m = mapping(s, [(98, 100), (50, 52)])\n",
    "print(m)\n",
    "sum([i[1]-i[0] for i in m])\n",
    "\n"
   ]
  },
  {
   "cell_type": "code",
   "execution_count": 242,
   "metadata": {},
   "outputs": [
    {
     "data": {
      "text/plain": [
       "[(81, 95)]"
      ]
     },
     "execution_count": 242,
     "metadata": {},
     "output_type": "execute_result"
    }
   ],
   "source": [
    "def mul_mappings(seeds: list[tuple[int,int]], rs: list[list[tuple[int,int]]]):\n",
    "    # apply the mappings multiple non overlapping mappings to a list of seeds in one pass\n",
    "    # takes a union at the end \n",
    "    for r in rs:\n",
    "        \n",
    "\n",
    "\n",
    "mul_mappings([(79, 93)], [[(50, 98), (52, 100)], [(98, 100), (50, 52)]])"
   ]
  },
  {
   "cell_type": "code",
   "execution_count": null,
   "metadata": {},
   "outputs": [
    {
     "data": {
      "text/plain": [
       "[[[(98, 100), (50, 52)], [(50, 98), (52, 100)]],\n",
       " [[(15, 52), (0, 37)], [(52, 54), (37, 39)], [(0, 15), (39, 54)]],\n",
       " [[(53, 61), (49, 57)],\n",
       "  [(11, 53), (0, 42)],\n",
       "  [(0, 7), (42, 49)],\n",
       "  [(7, 11), (57, 61)]],\n",
       " [[(18, 25), (88, 95)], [(25, 95), (18, 88)]],\n",
       " [[(77, 100), (45, 68)], [(45, 64), (81, 100)], [(64, 77), (68, 81)]],\n",
       " [[(69, 70), (0, 1)], [(0, 69), (1, 70)]],\n",
       " [[(56, 93), (60, 97)], [(93, 97), (56, 60)]]]"
      ]
     },
     "execution_count": 206,
     "metadata": {},
     "output_type": "execute_result"
    }
   ],
   "source": [
    "rounds"
   ]
  },
  {
   "cell_type": "code",
   "execution_count": null,
   "metadata": {},
   "outputs": [
    {
     "name": "stdout",
     "output_type": "stream",
     "text": [
      "[(79, 93)]\n",
      "[(79, 93), (81, 95)]\n",
      "[(79, 93), (81, 95)]\n",
      "[(79, 93), (81, 95)]\n",
      "[(81, 95), (74, 88), (79, 93), (72, 86), (95, 95)]\n",
      "[(81, 95), (74, 88), (78, 81), (63, 63), (77, 88), (74, 77), (47, 61), (45, 54), (49, 63), (76, 81), (79, 93), (77, 86), (72, 77), (45, 56), (72, 86), (95, 95)]\n",
      "[(50, 64), (46, 57), (74, 88), (47, 61), (79, 93), (77, 86), (95, 95), (63, 63), (48, 62), (45, 54), (76, 81), (64, 64), (72, 77), (72, 86), (81, 95), (78, 81), (46, 55), (77, 88), (74, 77), (49, 63), (45, 56)]\n",
      "[(47, 56), (60, 65), (50, 64), (60, 68), (78, 92), (46, 57), (49, 56), (74, 88), (83, 97), (93, 95), (56, 58), (85, 97), (58, 58), (47, 61), (81, 93), (79, 93), (81, 90), (60, 61), (67, 67), (60, 67), (77, 86), (95, 95), (46, 56), (80, 85), (48, 56), (45, 56), (68, 68), (63, 63), (48, 62), (45, 54), (76, 81), (64, 64), (76, 90), (72, 77), (82, 85), (50, 56), (72, 86), (60, 60), (81, 92), (60, 66), (78, 81), (46, 55), (77, 88), (74, 77), (49, 63), (93, 93), (56, 56)]\n"
     ]
    }
   ],
   "source": [
    "s = [seeds[0]]\n",
    "print(s)\n",
    "for r in rounds:\n",
    "    s = mul_mappings(s, r)\n",
    "    print(s)"
   ]
  },
  {
   "cell_type": "code",
   "execution_count": null,
   "metadata": {},
   "outputs": [
    {
     "data": {
      "text/plain": [
       "[(0, 1),\n",
       " (44, 45),\n",
       " (44, 50),\n",
       " (45, 46),\n",
       " (45, 51),\n",
       " (45, 54),\n",
       " (45, 56),\n",
       " (46, 50),\n",
       " (46, 55),\n",
       " (46, 56),\n",
       " (46, 57),\n",
       " (47, 51),\n",
       " (47, 56),\n",
       " (47, 61),\n",
       " (48, 56),\n",
       " (48, 61),\n",
       " (48, 62),\n",
       " (49, 56),\n",
       " (49, 62),\n",
       " (49, 63),\n",
       " (50, 56),\n",
       " (50, 63),\n",
       " (50, 64),\n",
       " (51, 56),\n",
       " (51, 57),\n",
       " (51, 64),\n",
       " (52, 56),\n",
       " (52, 58),\n",
       " (53, 56),\n",
       " (53, 57),\n",
       " (54, 56),\n",
       " (54, 58),\n",
       " (54, 61),\n",
       " (54, 63),\n",
       " (55, 56),\n",
       " (55, 62),\n",
       " (55, 64),\n",
       " (55, 68),\n",
       " (56, 56),\n",
       " (56, 58),\n",
       " (56, 60),\n",
       " (56, 65),\n",
       " (56, 69),\n",
       " (57, 64),\n",
       " (57, 69),\n",
       " (58, 58),\n",
       " (58, 65),\n",
       " (58, 70),\n",
       " (60, 60),\n",
       " (60, 61),\n",
       " (60, 62),\n",
       " (60, 65),\n",
       " (60, 66),\n",
       " (60, 67),\n",
       " (60, 68),\n",
       " (60, 69),\n",
       " (60, 72),\n",
       " (60, 73),\n",
       " (61, 64),\n",
       " (61, 68),\n",
       " (61, 69),\n",
       " (61, 73),\n",
       " (62, 65),\n",
       " (62, 69),\n",
       " (62, 70),\n",
       " (62, 74),\n",
       " (63, 63),\n",
       " (64, 64),\n",
       " (64, 68),\n",
       " (64, 69),\n",
       " (65, 68),\n",
       " (65, 69),\n",
       " (65, 70),\n",
       " (65, 72),\n",
       " (65, 73),\n",
       " (66, 69),\n",
       " (66, 73),\n",
       " (66, 74),\n",
       " (67, 67),\n",
       " (68, 68),\n",
       " (68, 69),\n",
       " (68, 72),\n",
       " (68, 73),\n",
       " (69, 70),\n",
       " (69, 72),\n",
       " (69, 73),\n",
       " (69, 74),\n",
       " (70, 70),\n",
       " (70, 72),\n",
       " (70, 74),\n",
       " (72, 73),\n",
       " (72, 77),\n",
       " (72, 86),\n",
       " (73, 74),\n",
       " (73, 76),\n",
       " (73, 78),\n",
       " (74, 74),\n",
       " (74, 76),\n",
       " (74, 77),\n",
       " (74, 78),\n",
       " (74, 88),\n",
       " (76, 81),\n",
       " (76, 90),\n",
       " (77, 86),\n",
       " (77, 88),\n",
       " (78, 81),\n",
       " (78, 92),\n",
       " (79, 93),\n",
       " (80, 85),\n",
       " (81, 86),\n",
       " (81, 90),\n",
       " (81, 92),\n",
       " (81, 93),\n",
       " (82, 85),\n",
       " (82, 86),\n",
       " (83, 97),\n",
       " (84, 93),\n",
       " (85, 90),\n",
       " (85, 97),\n",
       " (86, 90),\n",
       " (86, 93),\n",
       " (87, 93),\n",
       " (88, 97),\n",
       " (89, 93),\n",
       " (90, 93),\n",
       " (90, 97),\n",
       " (91, 93),\n",
       " (91, 97),\n",
       " (93, 93),\n",
       " (93, 95),\n",
       " (93, 97),\n",
       " (93, 99),\n",
       " (93, 100),\n",
       " (94, 97),\n",
       " (95, 95),\n",
       " (95, 97),\n",
       " (97, 97),\n",
       " (97, 99),\n",
       " (97, 100)]"
      ]
     },
     "execution_count": 178,
     "metadata": {},
     "output_type": "execute_result"
    }
   ],
   "source": [
    "# do a reduce by applying all rounds to initial seeds\n",
    "sorted(reduce(lambda x,r: mul_mappings(x,r), rounds, seeds))\n"
   ]
  }
 ],
 "metadata": {
  "kernelspec": {
   "display_name": ".venv",
   "language": "python",
   "name": "python3"
  },
  "language_info": {
   "codemirror_mode": {
    "name": "ipython",
    "version": 3
   },
   "file_extension": ".py",
   "mimetype": "text/x-python",
   "name": "python",
   "nbconvert_exporter": "python",
   "pygments_lexer": "ipython3",
   "version": "3.12.0"
  }
 },
 "nbformat": 4,
 "nbformat_minor": 2
}
