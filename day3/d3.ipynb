{
 "cells": [
  {
   "cell_type": "code",
   "execution_count": 176,
   "metadata": {},
   "outputs": [
    {
     "name": "stdout",
     "output_type": "stream",
     "text": [
      "527364\n"
     ]
    }
   ],
   "source": [
    "import re\n",
    "\n",
    "ans = 0\n",
    "lines = open(\"d3.txt\").read().splitlines()\n",
    "\n",
    "def is_symbol(char):\n",
    "    return not char.isdigit() and not char in ['.']\n",
    "\n",
    "for i,line in enumerate(lines):\n",
    "    for part,s,e in [(match.group(), match.start(), match.end()) for match in re.finditer(r'\\d+', line)]:\n",
    "        start_ab = 0 if s == 0 else s-1\n",
    "        end_ab = len(lines[0]) if e == len(line)-1 else e+1\n",
    "        above = any(is_symbol(c) for c in lines[i-1][start_ab:end_ab]) if i > 0 else False\n",
    "        below = any(is_symbol(c) for c in lines[i+1][start_ab:end_ab]) if i < len(lines)-1 else False\n",
    "        right = is_symbol(line[e]) if e < len(line) else False\n",
    "        left = is_symbol(line[s-1]) if s > 0 else False\n",
    "        if above or below or right or left:\n",
    "            ans += int(part)\n",
    "    \n",
    "print(ans) # 527364"
   ]
  },
  {
   "cell_type": "code",
   "execution_count": 174,
   "metadata": {},
   "outputs": [
    {
     "name": "stdout",
     "output_type": "stream",
     "text": [
      "79026871\n"
     ]
    }
   ],
   "source": [
    "import re\n",
    "\n",
    "ans = 0\n",
    "lines = open(\"d3.txt\").read().splitlines()[:]\n",
    "\n",
    "for i,line in enumerate(lines):\n",
    "    for ci,char in enumerate(line):\n",
    "        if char == '*':\n",
    "            local_parts = []\n",
    "            for part,s,e in [(match.group(), match.start(), match.end()) for match in re.finditer(r'\\d+', line)]:\n",
    "                if s == ci+1:\n",
    "                    local_parts.append(part)\n",
    "                if e == ci:\n",
    "                    local_parts.append(part)\n",
    "            if i > 0:\n",
    "                for part,s,e in [(match.group(), match.start(), match.end()) for match in re.finditer(r'\\d+', lines[i-1])]:\n",
    "                    if not (s > ci+1 or e < ci):\n",
    "                        local_parts.append(part)\n",
    "            if i < len(lines)-1:\n",
    "                for part,s,e in [(match.group(), match.start(), match.end()) for match in re.finditer(r'\\d+', lines[i+1])]:\n",
    "                    if not (s > ci+1 or e < ci):\n",
    "                        local_parts.append(part)\n",
    "            if len(local_parts) == 2:\n",
    "                ans += int(local_parts[0]) * int(local_parts[1])\n",
    "\n",
    "print(ans) # 79026871"
   ]
  }
 ],
 "metadata": {
  "kernelspec": {
   "display_name": ".venv",
   "language": "python",
   "name": "python3"
  },
  "language_info": {
   "codemirror_mode": {
    "name": "ipython",
    "version": 3
   },
   "file_extension": ".py",
   "mimetype": "text/x-python",
   "name": "python",
   "nbconvert_exporter": "python",
   "pygments_lexer": "ipython3",
   "version": "3.12.0"
  }
 },
 "nbformat": 4,
 "nbformat_minor": 2
}
