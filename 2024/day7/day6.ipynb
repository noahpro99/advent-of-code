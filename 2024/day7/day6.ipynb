{
 "cells": [
  {
   "cell_type": "code",
   "execution_count": 44,
   "metadata": {},
   "outputs": [
    {
     "name": "stdout",
     "output_type": "stream",
     "text": [
      "975671981569 223472064194845\n"
     ]
    }
   ],
   "source": [
    "filename = \"input.txt\"\n",
    "f = open(filename).read().splitlines()\n",
    "ls = [x.split(\": \") for x in f]\n",
    "\n",
    "\n",
    "def passes(ans, nums, p2):\n",
    "    frontier = [(nums[0], 0)]\n",
    "    while frontier:\n",
    "        cur, ind = frontier.pop()\n",
    "        if ind == len(nums) - 1 and cur == ans:\n",
    "            return True\n",
    "        if ind < len(nums) - 1:\n",
    "            frontier.append((cur + nums[ind + 1], ind + 1))\n",
    "            frontier.append((cur * nums[ind + 1], ind + 1))\n",
    "            if p2:\n",
    "                frontier.append((int(str(cur) + str(nums[ind + 1])), ind + 1))\n",
    "\n",
    "    return False\n",
    "\n",
    "\n",
    "p1, p2 = 0, 0\n",
    "for ans, nums in ls:\n",
    "    nums = nums.split(\" \")\n",
    "    if passes(int(ans), [int(x) for x in nums], False):\n",
    "        p1 += int(ans)\n",
    "    if passes(int(ans), [int(x) for x in nums], True):\n",
    "        p2 += int(ans)\n",
    "print(p1, p2)"
   ]
  }
 ],
 "metadata": {
  "kernelspec": {
   "display_name": ".venv",
   "language": "python",
   "name": "python3"
  },
  "language_info": {
   "codemirror_mode": {
    "name": "ipython",
    "version": 3
   },
   "file_extension": ".py",
   "mimetype": "text/x-python",
   "name": "python",
   "nbconvert_exporter": "python",
   "pygments_lexer": "ipython3",
   "version": "3.10.15"
  }
 },
 "nbformat": 4,
 "nbformat_minor": 2
}
