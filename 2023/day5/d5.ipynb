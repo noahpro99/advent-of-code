{
 "cells": [
  {
   "cell_type": "code",
   "execution_count": 13,
   "metadata": {},
   "outputs": [
    {
     "data": {
      "text/plain": [
       "240320250"
      ]
     },
     "execution_count": 13,
     "metadata": {},
     "output_type": "execute_result"
    }
   ],
   "source": [
    "from functools import reduce\n",
    "\n",
    "lines = open(\"d5.txt\").read().splitlines()\n",
    "seeds = [int(i) for i in lines[0].split()[1:]]\n",
    "rounds = [[[int(t) for t in n.split()] for n in m[1:-1].split(\".\")[1:]] for m in \".\".join([i if i != \"\" else \"@\" for i in lines[2:]+[\"\"]]).split(\"@\")[:-1]]\n",
    "min([reduce(lambda x,r: x if not any([x+r[0]-r[1] if r[1]<=x<r[1]+r[2] else False for r in r]) else list(filter(lambda ar: ar!=False, [x+r[0]-r[1] if r[1]<=x<r[1]+r[2] else False for r in r]))[0], rounds, seed) for seed in seeds])"
   ]
  },
  {
   "cell_type": "code",
   "execution_count": 14,
   "metadata": {},
   "outputs": [
    {
     "data": {
      "text/plain": [
       "240320250"
      ]
     },
     "execution_count": 14,
     "metadata": {},
     "output_type": "execute_result"
    }
   ],
   "source": [
    "min([reduce(lambda x,r: x if not any([x+r[0]-r[1] if r[1]<=x<r[1]+r[2] else False for r in r]) else list(filter(lambda ar: ar!=False, [x+r[0]-r[1] if r[1]<=x<r[1]+r[2] else False for r in r]))[0], [[[int(t) for t in n.split()] for n in m[1:-1].split(\".\")[1:]] for m in \".\".join([i if i != \"\" else \"@\" for i in open(\"d5.txt\").read().splitlines()[2:]+[\"\"]]).split(\"@\")[:-1]], seed) for seed in [int(i) for i in open(\"d5.txt\").read().splitlines()[0].split()[1:]]])"
   ]
  },
  {
   "cell_type": "code",
   "execution_count": 33,
   "metadata": {},
   "outputs": [
    {
     "data": {
      "text/plain": [
       "28580589"
      ]
     },
     "execution_count": 33,
     "metadata": {},
     "output_type": "execute_result"
    }
   ],
   "source": [
    "lines = open(\"d5.txt\").read().splitlines()\n",
    "rounds = [[[int(t) for t in n.split()] for n in m[1:-1].split(\".\")[1:]] for m in \".\".join([i if i != \"\" else \"@\" for i in lines[2:]+[\"\"]]).split(\"@\")[:-1]]\n",
    "prev = [(int(i),int(j)) for i,j in zip(lines[0].split()[1::2],lines[0].split()[2::2])]\n",
    "\n",
    "for r in rounds:\n",
    "    new = []\n",
    "    while len(prev) > 0:\n",
    "        s = prev.pop(0)\n",
    "        mapped = False\n",
    "        for m in r:\n",
    "            if s[0] <= m[1] < s[0]+s[1]:\n",
    "                right = min(m[1]+m[2], s[0]+s[1])\n",
    "                new.append((m[0], right-m[1]))\n",
    "                prev.append((s[0], m[1]-s[0]))\n",
    "                if right < s[0]+s[1]: prev.append((right, s[0]+s[1]-right))\n",
    "                mapped = True\n",
    "            elif m[1] <= s[0] < m[1]+m[2]:\n",
    "                right = min(m[1]+m[2], s[0]+s[1])\n",
    "                new.append((s[0]+m[0]-m[1], right-s[0]))\n",
    "                if s[0]+s[1]-right > 0: prev.append((right, s[0]+s[1]-right))\n",
    "                mapped = True\n",
    "        if not mapped: new.append(s)\n",
    "    prev = new.copy()\n",
    "    \n",
    "min([s[0] for s in prev])"
   ]
  }
 ],
 "metadata": {
  "kernelspec": {
   "display_name": ".venv",
   "language": "python",
   "name": "python3"
  },
  "language_info": {
   "codemirror_mode": {
    "name": "ipython",
    "version": 3
   },
   "file_extension": ".py",
   "mimetype": "text/x-python",
   "name": "python",
   "nbconvert_exporter": "python",
   "pygments_lexer": "ipython3",
   "version": "3.12.0"
  }
 },
 "nbformat": 4,
 "nbformat_minor": 2
}
