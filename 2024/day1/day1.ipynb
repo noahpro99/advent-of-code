{
 "cells": [
  {
   "cell_type": "code",
   "execution_count": 33,
   "metadata": {},
   "outputs": [
    {
     "name": "stdout",
     "output_type": "stream",
     "text": [
      "936063\n"
     ]
    }
   ],
   "source": [
    "file_name = \"input.txt\"\n",
    "input_pairs = [x.split(\"   \") for x in open(file_name).read().splitlines()]\n",
    "two_lists = [[int(x[i]) for x in input_pairs] for i in range(2)]\n",
    "for x in two_lists:\n",
    "    x.sort()\n",
    "p1 = sum([abs(x[0] - x[1]) for x in zip(*two_lists)])\n",
    "print(p1)"
   ]
  },
  {
   "cell_type": "code",
   "execution_count": 34,
   "metadata": {},
   "outputs": [
    {
     "name": "stdout",
     "output_type": "stream",
     "text": [
      "23150395\n"
     ]
    }
   ],
   "source": [
    "d = {i: len([x for x in two_lists[1] if x == i]) for i in set(two_lists[1])}\n",
    "p2 = sum([x * d[x] for x in two_lists[0] if x in d])\n",
    "print(p2)"
   ]
  }
 ],
 "metadata": {
  "kernelspec": {
   "display_name": ".venv",
   "language": "python",
   "name": "python3"
  },
  "language_info": {
   "codemirror_mode": {
    "name": "ipython",
    "version": 3
   },
   "file_extension": ".py",
   "mimetype": "text/x-python",
   "name": "python",
   "nbconvert_exporter": "python",
   "pygments_lexer": "ipython3",
   "version": "3.10.15"
  }
 },
 "nbformat": 4,
 "nbformat_minor": 2
}
