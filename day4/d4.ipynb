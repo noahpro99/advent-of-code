{
 "cells": [
  {
   "cell_type": "code",
   "execution_count": 58,
   "metadata": {},
   "outputs": [
    {
     "name": "stdout",
     "output_type": "stream",
     "text": [
      "24160\n",
      "5659035\n"
     ]
    }
   ],
   "source": [
    "lines = open(\"d4.txt\").read().splitlines()\n",
    "scorecards = {i:1 for i in range(len(lines))}\n",
    "\n",
    "def check(line, p1=False):\n",
    "    win,have = line.split(\": \")[1].split(\" | \")\n",
    "    win,have = set(win.split()), set(have.split())\n",
    "    num = len(win.intersection(have))\n",
    "    if num == 0: return 0\n",
    "    return 2**(num-1) if p1 else num\n",
    "\n",
    "p1 = 0\n",
    "p2 = 0\n",
    "for i,line in enumerate(lines):\n",
    "    p1 += check(line, p1=True)\n",
    "    num = check(line)\n",
    "    for j in range(num):\n",
    "        scorecards[i+j+1] += scorecards[i]\n",
    "\n",
    "p2 = sum(scorecards.values())\n",
    "\n",
    "print(p1)\n",
    "print(p2)"
   ]
  }
 ],
 "metadata": {
  "kernelspec": {
   "display_name": ".venv",
   "language": "python",
   "name": "python3"
  },
  "language_info": {
   "codemirror_mode": {
    "name": "ipython",
    "version": 3
   },
   "file_extension": ".py",
   "mimetype": "text/x-python",
   "name": "python",
   "nbconvert_exporter": "python",
   "pygments_lexer": "ipython3",
   "version": "3.12.0"
  }
 },
 "nbformat": 4,
 "nbformat_minor": 2
}
