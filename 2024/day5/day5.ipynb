{
 "cells": [
  {
   "cell_type": "code",
   "execution_count": 17,
   "metadata": {},
   "outputs": [
    {
     "name": "stdout",
     "output_type": "stream",
     "text": [
      "4774\n",
      "6004\n"
     ]
    }
   ],
   "source": [
    "file_name = \"input.txt\"\n",
    "rules, orders = open(file_name).read().split(\"\\n\\n\")\n",
    "orders = [x.split(\",\") for x in orders.split(\"\\n\")]\n",
    "rules = [x.split(\"|\") for x in rules.split(\"\\n\")]\n",
    "d = {x[1]: [i[0] for i in rules if i[1] == x[1]] for x in rules}\n",
    "\n",
    "\n",
    "def order_good(order):\n",
    "    cant_hit = set()\n",
    "    for item in order:\n",
    "        if item in cant_hit:\n",
    "            return False\n",
    "        if item in d:\n",
    "            for new in d[item]:\n",
    "                cant_hit.add(new)\n",
    "    return True\n",
    "\n",
    "\n",
    "def reorder(order):\n",
    "    needs_again = True\n",
    "    while needs_again:\n",
    "        needs_again = False\n",
    "        cant_hit = {}\n",
    "        for i, item in enumerate(order):\n",
    "            if item in cant_hit.keys():\n",
    "                order[i] = order[cant_hit[item]]\n",
    "                order[cant_hit[item]] = item\n",
    "                needs_again = True\n",
    "                break\n",
    "            if item in d:\n",
    "                for new in d[item]:\n",
    "                    cant_hit[new] = i\n",
    "    return order\n",
    "\n",
    "\n",
    "p1 = 0\n",
    "p2 = 0\n",
    "for order in orders:\n",
    "    if order_good(order):\n",
    "        p1 += int(order[len(order) // 2])\n",
    "    else:\n",
    "        order = reorder(order)\n",
    "        p2 += int(order[len(order) // 2])\n",
    "print(p1)\n",
    "print(p2)"
   ]
  }
 ],
 "metadata": {
  "kernelspec": {
   "display_name": ".venv",
   "language": "python",
   "name": "python3"
  },
  "language_info": {
   "codemirror_mode": {
    "name": "ipython",
    "version": 3
   },
   "file_extension": ".py",
   "mimetype": "text/x-python",
   "name": "python",
   "nbconvert_exporter": "python",
   "pygments_lexer": "ipython3",
   "version": "3.10.15"
  }
 },
 "nbformat": 4,
 "nbformat_minor": 2
}
