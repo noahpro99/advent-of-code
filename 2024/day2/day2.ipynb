{
 "cells": [
  {
   "cell_type": "code",
   "execution_count": 34,
   "metadata": {},
   "outputs": [
    {
     "name": "stdout",
     "output_type": "stream",
     "text": [
      "663\n",
      "692\n"
     ]
    }
   ],
   "source": [
    "filename = \"input.txt\"\n",
    "ls = [[int(i) for i in x.split(\" \")] for x in open(filename).read().splitlines()]\n",
    "\n",
    "\n",
    "def is_safe(l):\n",
    "    d = [x[1] - x[0] for x in zip(l, l[1:])]\n",
    "    inc = [x for x in d if x > 0 and x < 4]\n",
    "    dec = [x for x in d if x < 0 and x > -4]\n",
    "    return len(inc) == len(d) or len(dec) == len(d)\n",
    "\n",
    "\n",
    "p1 = 0\n",
    "p2 = 0\n",
    "for l in ls:\n",
    "    if is_safe(l):\n",
    "        p1 += 1\n",
    "        p2 += 1\n",
    "    else:\n",
    "        any_work = False\n",
    "        for i in range(len(l)):\n",
    "            if is_safe(l[:i] + l[i + 1 :]):\n",
    "                any_work = True\n",
    "        if any_work:\n",
    "            p2 += 1\n",
    "\n",
    "print(p1)\n",
    "print(p2)"
   ]
  }
 ],
 "metadata": {
  "kernelspec": {
   "display_name": ".venv",
   "language": "python",
   "name": "python3"
  },
  "language_info": {
   "codemirror_mode": {
    "name": "ipython",
    "version": 3
   },
   "file_extension": ".py",
   "mimetype": "text/x-python",
   "name": "python",
   "nbconvert_exporter": "python",
   "pygments_lexer": "ipython3",
   "version": "3.10.15"
  }
 },
 "nbformat": 4,
 "nbformat_minor": 2
}
