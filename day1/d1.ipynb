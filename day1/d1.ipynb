{
 "cells": [
  {
   "cell_type": "code",
   "execution_count": 3,
   "metadata": {},
   "outputs": [
    {
     "data": {
      "text/plain": [
       "55029"
      ]
     },
     "execution_count": 3,
     "metadata": {},
     "output_type": "execute_result"
    }
   ],
   "source": [
    "# p1\n",
    "sum([int(list(filter(lambda x: x.isdigit(), [num for num in line]))[0]+list(filter(lambda x: x.isdigit(), [num for num in line]))[-1]) for line in open('text.txt').readlines()])"
   ]
  },
  {
   "cell_type": "code",
   "execution_count": 133,
   "metadata": {},
   "outputs": [
    {
     "data": {
      "text/plain": [
       "55686"
      ]
     },
     "execution_count": 133,
     "metadata": {},
     "output_type": "execute_result"
    }
   ],
   "source": [
    "# p2\n",
    "digits = {'one': '1','two': '2','three': '3','four': '4','five': '5','six': '6', 'seven': '7','eight': '8','nine': '9', '1': '1', '2': '2', '3': '3', '4': '4', '5': '5','6': '6', '7': '7', '8': '8', '9': '9'}\n",
    "sum([int(digits[min([(line.find(k),k) for k in digits.keys() if k in line])[1]]+digits[min([(line[::-1].find(k[::-1]),k) for k in digits.keys() if k in line])[1]]) for line in open('text.txt').readlines()])"
   ]
  },
  {
   "cell_type": "code",
   "execution_count": 180,
   "metadata": {},
   "outputs": [
    {
     "data": {
      "text/plain": [
       "55686"
      ]
     },
     "execution_count": 180,
     "metadata": {},
     "output_type": "execute_result"
    }
   ],
   "source": [
    "# fishbots version\n",
    "import re\n",
    "sum([int(digits[re.findall(rf'(?=({\"|\".join(list(digits.keys()))}))', line)[0]] + digits[re.findall(rf'(?=({\"|\".join(list(digits.keys()))}))', line)[-1]]) for line in open('text.txt').readlines()])"
   ]
  }
 ],
 "metadata": {
  "kernelspec": {
   "display_name": ".venv",
   "language": "python",
   "name": "python3"
  },
  "language_info": {
   "codemirror_mode": {
    "name": "ipython",
    "version": 3
   },
   "file_extension": ".py",
   "mimetype": "text/x-python",
   "name": "python",
   "nbconvert_exporter": "python",
   "pygments_lexer": "ipython3",
   "version": "3.12.0"
  }
 },
 "nbformat": 4,
 "nbformat_minor": 2
}
