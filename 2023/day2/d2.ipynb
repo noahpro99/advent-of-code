{
 "cells": [
  {
   "cell_type": "code",
   "execution_count": 109,
   "metadata": {},
   "outputs": [],
   "source": [
    "import numpy as np"
   ]
  },
  {
   "cell_type": "code",
   "execution_count": 115,
   "metadata": {},
   "outputs": [
    {
     "data": {
      "text/plain": [
       "2563"
      ]
     },
     "execution_count": 115,
     "metadata": {},
     "output_type": "execute_result"
    }
   ],
   "source": [
    "# day 1 p1\n",
    "allowed = {'red': 12, 'green': 13, 'blue': 14}\n",
    "sum([x[0] for x in list(filter(lambda x: all(x), [[i+1 if allowed[s.split(' ')[1]] >= int(s.split(' ')[0]) else 0 for s in line.split(': ')[1].replace(';',',').split(\", \")] for i,line in enumerate(open('p1.txt').read().splitlines())]))])"
   ]
  },
  {
   "cell_type": "code",
   "execution_count": 116,
   "metadata": {},
   "outputs": [
    {
     "data": {
      "text/plain": [
       "70768"
      ]
     },
     "execution_count": 116,
     "metadata": {},
     "output_type": "execute_result"
    }
   ],
   "source": [
    "# day 2 p2\n",
    "colors = ['red', 'green', 'blue']\n",
    "sum([np.prod([max([int(g.split(' ')[0]) for g in line.split(': ')[1].replace(\";\", \",\").split(', ') if g.split(' ')[1]==color]) for color in colors]) for line in open('p1.txt').read().splitlines()])"
   ]
  }
 ],
 "metadata": {
  "kernelspec": {
   "display_name": ".venv",
   "language": "python",
   "name": "python3"
  },
  "language_info": {
   "codemirror_mode": {
    "name": "ipython",
    "version": 3
   },
   "file_extension": ".py",
   "mimetype": "text/x-python",
   "name": "python",
   "nbconvert_exporter": "python",
   "pygments_lexer": "ipython3",
   "version": "3.12.0"
  }
 },
 "nbformat": 4,
 "nbformat_minor": 2
}
