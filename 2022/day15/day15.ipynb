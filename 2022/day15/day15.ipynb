{
 "cells": [
  {
   "cell_type": "code",
   "execution_count": null,
   "metadata": {},
   "outputs": [
    {
     "data": {
      "text/plain": [
       "[{'sensor': [3772068, 2853720], 'beacon': [4068389, 2345925], 'dist': 804116},\n",
       " {'sensor': [78607, 2544104], 'beacon': [-152196, 4183739], 'dist': 1870438},\n",
       " {'sensor': [3239531, 3939220], 'beacon': [3568548, 4206192], 'dist': 595989},\n",
       " {'sensor': [339124, 989831], 'beacon': [570292, 1048239], 'dist': 289576},\n",
       " {'sensor': [3957534, 2132743], 'beacon': [3897332, 2000000], 'dist': 192945},\n",
       " {'sensor': [1882965, 3426126], 'beacon': [2580484, 3654136], 'dist': 925529},\n",
       " {'sensor': [1159443, 3861139], 'beacon': [2580484, 3654136], 'dist': 1628044},\n",
       " {'sensor': [2433461, 287013], 'beacon': [2088099, -190228], 'dist': 822603},\n",
       " {'sensor': [3004122, 3483833], 'beacon': [2580484, 3654136], 'dist': 593941},\n",
       " {'sensor': [3571821, 799602], 'beacon': [3897332, 2000000], 'dist': 1525909},\n",
       " {'sensor': [2376562, 1539540], 'beacon': [2700909, 2519581], 'dist': 1304388},\n",
       " {'sensor': [785113, 1273008], 'beacon': [570292, 1048239], 'dist': 439590},\n",
       " {'sensor': [1990787, 38164], 'beacon': [2088099, -190228], 'dist': 325704},\n",
       " {'sensor': [3993778, 3482849], 'beacon': [4247709, 3561264], 'dist': 332346},\n",
       " {'sensor': [3821391, 3986080], 'beacon': [3568548, 4206192], 'dist': 472955},\n",
       " {'sensor': [2703294, 3999015], 'beacon': [2580484, 3654136], 'dist': 467689},\n",
       " {'sensor': [1448314, 2210094], 'beacon': [2700909, 2519581], 'dist': 1562082},\n",
       " {'sensor': [3351224, 2364892], 'beacon': [4068389, 2345925], 'dist': 736132},\n",
       " {'sensor': [196419, 3491556], 'beacon': [-152196, 4183739], 'dist': 1040798},\n",
       " {'sensor': [175004, 138614], 'beacon': [570292, 1048239], 'dist': 1304913},\n",
       " {'sensor': [1618460, 806488], 'beacon': [570292, 1048239], 'dist': 1289919},\n",
       " {'sensor': [3974730, 1940193], 'beacon': [3897332, 2000000], 'dist': 137205},\n",
       " {'sensor': [2995314, 2961775], 'beacon': [2700909, 2519581], 'dist': 736599},\n",
       " {'sensor': [105378, 1513086], 'beacon': [570292, 1048239], 'dist': 929761},\n",
       " {'sensor': [3576958, 3665667], 'beacon': [3568548, 4206192], 'dist': 548935},\n",
       " {'sensor': [2712265, 2155055], 'beacon': [2700909, 2519581], 'dist': 375882}]"
      ]
     },
     "execution_count": 22,
     "metadata": {},
     "output_type": "execute_result"
    }
   ],
   "source": [
    "def manhattan(p1, p2):\n",
    "    return abs(p1[0] - p2[0]) + abs(p1[1] - p2[1])\n",
    "\n",
    "\n",
    "# file_name = \"ex.txt\"\n",
    "# row = 10\n",
    "# mins, maxes = [0,0], [20, 20]\n",
    "file_name = \"input.txt\"\n",
    "row = int(2e6)\n",
    "mins, maxes = [0, 0], [int(4e6), int(4e6)]\n",
    "ps = [\n",
    "    [\n",
    "        [int(a[2:]) for a in i.split(\", \")]\n",
    "        for i in r[10:].split(\": closest beacon is at \")\n",
    "    ]\n",
    "    for r in open(file_name).read().splitlines()\n",
    "]\n",
    "ps = [{\"sensor\": pair[0], \"beacon\": pair[1], \"dist\": manhattan(*pair)} for pair in ps]\n",
    "xs = [p[\"sensor\"][0] for p in ps]\n",
    "min_x, max_x = min(xs), max(xs)\n",
    "dx = max_x - min_x\n",
    "ps"
   ]
  },
  {
   "cell_type": "code",
   "execution_count": 23,
   "metadata": {},
   "outputs": [
    {
     "name": "stdout",
     "output_type": "stream",
     "text": [
      "5299855\n"
     ]
    },
    {
     "name": "stderr",
     "output_type": "stream",
     "text": [
      " 82%|████████▏ | 3289729/4000000 [00:25<00:05, 129527.50it/s]"
     ]
    },
    {
     "name": "stdout",
     "output_type": "stream",
     "text": [
      "(3403960, 3289729) 13615843289729\n"
     ]
    },
    {
     "name": "stderr",
     "output_type": "stream",
     "text": [
      "\n"
     ]
    }
   ],
   "source": [
    "from tqdm import tqdm\n",
    "\n",
    "\n",
    "def merge_ranges(ranges: list[int]) -> list[int]:\n",
    "    ranges.sort()\n",
    "    res = [ranges[0]]\n",
    "    for i in range(1, len(ranges)):\n",
    "        last = res[-1]\n",
    "        curr = ranges[i]\n",
    "        if curr[0] <= last[1]:\n",
    "            last[1] = max(curr[1], last[1])\n",
    "        else:\n",
    "            res.append(curr)\n",
    "    return res\n",
    "\n",
    "\n",
    "def row_ranges(ps, row):\n",
    "    ranges = []\n",
    "    for p in ps:\n",
    "        dis_to_row = abs(p[\"sensor\"][1] - row)\n",
    "        remaining = p[\"dist\"] - dis_to_row\n",
    "        if remaining > 0:\n",
    "            range = [p[\"sensor\"][0] - remaining, p[\"sensor\"][0] + remaining]\n",
    "            ranges.append(range)\n",
    "    ranges = merge_ranges(ranges)\n",
    "    return ranges\n",
    "\n",
    "\n",
    "def not_reachable_point(ps, mins, maxes):\n",
    "    for row in tqdm(range(mins[1], maxes[1])):\n",
    "        ranges = row_ranges(ps, row)\n",
    "        for i in range(len(ranges) - 1):\n",
    "            if (\n",
    "                ranges[i][1] + 2 == ranges[i + 1][0]\n",
    "                and mins[0] <= ranges[i][1] + 1 <= maxes[0]\n",
    "            ):\n",
    "                return (ranges[i][1] + 1, row)\n",
    "\n",
    "\n",
    "ranges_on_row = row_ranges(ps, row)\n",
    "tr = sum([r[1] - r[0] for r in ranges_on_row])\n",
    "print(tr)\n",
    "nrp = not_reachable_point(ps, mins, maxes)\n",
    "print(nrp, nrp[0] * int(4e6) + nrp[1])"
   ]
  }
 ],
 "metadata": {
  "kernelspec": {
   "display_name": ".venv",
   "language": "python",
   "name": "python3"
  },
  "language_info": {
   "codemirror_mode": {
    "name": "ipython",
    "version": 3
   },
   "file_extension": ".py",
   "mimetype": "text/x-python",
   "name": "python",
   "nbconvert_exporter": "python",
   "pygments_lexer": "ipython3",
   "version": "3.10.15"
  }
 },
 "nbformat": 4,
 "nbformat_minor": 2
}
