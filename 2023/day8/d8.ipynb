{
 "cells": [
  {
   "cell_type": "code",
   "execution_count": 2,
   "metadata": {},
   "outputs": [
    {
     "name": "stdout",
     "output_type": "stream",
     "text": [
      "12083\n",
      "13385272668829\n"
     ]
    }
   ],
   "source": [
    "import numpy as np\n",
    "\n",
    "lines = open('d8.txt').read()\n",
    "pat, rest = lines.split(\"\\n\\n\")\n",
    "d = {l.split()[0]: (l.split(\"= (\")[1].split(\", \")[0],l.split(\", \")[1].split(\")\")[0]) for l in rest.splitlines()}\n",
    "pat = [0 if c == \"L\" else 1 for c in pat]\n",
    "p1 = None\n",
    "cur1 = 'AAA'\n",
    "cur2 = [i for i in d.keys() if i[-1]=='A']\n",
    "pi = 0\n",
    "repeats = [[] for i in range(len(cur2))]\n",
    "\n",
    "for i in range(1,50000):\n",
    "    cur1 = d[cur1][pat[pi]]\n",
    "    cur2 = [d[cur][pat[pi]] for cur in cur2]\n",
    "    for j in range(len(cur2)):\n",
    "        if cur2[j][-1] == 'Z':\n",
    "            repeats[j].append(i)\n",
    "    if cur1 == 'ZZZ' and p1 == None: p1 = i\n",
    "    pi = 0 if pi >= len(pat)-1 else pi+1\n",
    "\n",
    "print(p1)\n",
    "print(np.lcm.reduce([repeat[-1] - repeat[-2] for repeat in repeats]))"
   ]
  }
 ],
 "metadata": {
  "kernelspec": {
   "display_name": ".venv",
   "language": "python",
   "name": "python3"
  },
  "language_info": {
   "codemirror_mode": {
    "name": "ipython",
    "version": 3
   },
   "file_extension": ".py",
   "mimetype": "text/x-python",
   "name": "python",
   "nbconvert_exporter": "python",
   "pygments_lexer": "ipython3",
   "version": "3.12.0"
  }
 },
 "nbformat": 4,
 "nbformat_minor": 2
}
