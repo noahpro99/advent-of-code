{
 "cells": [
  {
   "cell_type": "code",
   "execution_count": null,
   "metadata": {},
   "outputs": [],
   "source": [
    "import json\n",
    "\n",
    "file_name = \"input.txt\"\n",
    "pairs = [\n",
    "    [json.loads(i) for i in x.split(\"\\n\")] for x in open(file_name).read().split(\"\\n\\n\")\n",
    "]\n",
    "all_entries = [\n",
    "    json.loads(x.strip(\"\\n\")) for x in open(file_name).read().split(\"\\n\") if x\n",
    "] + [[[6]], [[2]]]"
   ]
  },
  {
   "cell_type": "code",
   "execution_count": 105,
   "metadata": {},
   "outputs": [
    {
     "name": "stdout",
     "output_type": "stream",
     "text": [
      "5208\n"
     ]
    },
    {
     "data": {
      "text/plain": [
       "25792"
      ]
     },
     "execution_count": 105,
     "metadata": {},
     "output_type": "execute_result"
    }
   ],
   "source": [
    "def compare_elements(a, b, ind=0) -> int:\n",
    "    # print(\" \" * ind, f\"compare {a, b}\")\n",
    "    if isinstance(a, int) and isinstance(b, int):\n",
    "        return b - a\n",
    "    if isinstance(a, int):\n",
    "        a = [a]\n",
    "    if isinstance(b, int):\n",
    "        b = [b]\n",
    "    shorter = a if len(a) < len(b) else b\n",
    "    short_return = 1 if len(a) < len(b) else -1\n",
    "    for i in range(len(shorter)):\n",
    "        res = compare_elements(a[i], b[i])\n",
    "        if res != 0:\n",
    "            return res\n",
    "    if len(a) != len(b):\n",
    "        return short_return\n",
    "    return 0\n",
    "\n",
    "\n",
    "ans = 0\n",
    "for i, pair in enumerate(pairs):\n",
    "    if compare_elements(*pair) > 0:\n",
    "        ans += i + 1\n",
    "print(ans)\n",
    "\n",
    "\n",
    "from functools import cmp_to_key\n",
    "\n",
    "all_sorted = sorted(all_entries, key=cmp_to_key(compare_elements), reverse=True)\n",
    "all_sorted\n",
    "\n",
    "(all_sorted.index([[6]]) + 1) * (all_sorted.index([[2]]) + 1)"
   ]
  },
  {
   "cell_type": "code",
   "execution_count": null,
   "metadata": {},
   "outputs": [],
   "source": []
  }
 ],
 "metadata": {
  "kernelspec": {
   "display_name": ".venv",
   "language": "python",
   "name": "python3"
  },
  "language_info": {
   "codemirror_mode": {
    "name": "ipython",
    "version": 3
   },
   "file_extension": ".py",
   "mimetype": "text/x-python",
   "name": "python",
   "nbconvert_exporter": "python",
   "pygments_lexer": "ipython3",
   "version": "3.10.15"
  }
 },
 "nbformat": 4,
 "nbformat_minor": 2
}
